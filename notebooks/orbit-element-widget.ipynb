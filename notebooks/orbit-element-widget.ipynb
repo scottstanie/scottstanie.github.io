{
 "cells": [
  {
   "cell_type": "code",
   "execution_count": 1,
   "metadata": {},
   "outputs": [
    {
     "data": {
      "text/html": [
       "<script type=\"text/javascript\">window.PlotlyConfig = {MathJaxConfig: 'local'};</script><script type=\"text/javascript\">if (window.MathJax) {MathJax.Hub.Config({SVG: {font: \"STIX-Web\"}});}</script><script>requirejs.config({paths: { 'plotly': ['https://cdn.plot.ly/plotly-latest.min']},});if(!window._Plotly) {require(['plotly'],function(plotly) {window._Plotly=plotly;});}</script>"
      ],
      "text/vnd.plotly.v1+html": [
       "<script type=\"text/javascript\">window.PlotlyConfig = {MathJaxConfig: 'local'};</script><script type=\"text/javascript\">if (window.MathJax) {MathJax.Hub.Config({SVG: {font: \"STIX-Web\"}});}</script><script>requirejs.config({paths: { 'plotly': ['https://cdn.plot.ly/plotly-latest.min']},});if(!window._Plotly) {require(['plotly'],function(plotly) {window._Plotly=plotly;});}</script>"
      ]
     },
     "metadata": {},
     "output_type": "display_data"
    }
   ],
   "source": [
    "import plotly.offline as py\n",
    "import plotly.graph_objs as go\n",
    "import numpy as np\n",
    "from numpy import sin, cos, sqrt\n",
    "from ipywidgets import interact\n",
    "from IPython.display import display, HTML\n",
    "\n",
    "py.init_notebook_mode(connected=True)"
   ]
  },
  {
   "cell_type": "markdown",
   "metadata": {},
   "source": [
    "# Kepler orbital elements with plotly\n",
    "\n",
    "This was an experiment to see how hard it was to create an interactive figure with [plotly](https://plot.ly/).\n",
    "\n",
    "The idea is to adjust an orbit's Keplerian elements using sliders to get a quick feel for what they mean.\n",
    "[Static pictures](https://en.wikipedia.org/wiki/Orbital_elements) can get the point across, but playing with the elements wil lbe the quickest way to remember what they mean when learning for the first time.\n",
    "\n",
    "To run the widget, click the \"Run\" button on the cell below.\n",
    "\n",
    "# The plotly widget\n",
    "\n",
    "To make the slider widget, I followed nearly the same format as the ipywidget example:\n",
    "https://ipywidgets.readthedocs.io/en/latest/examples/Using%20Interact.html\n",
    "and call my `kep2cart` on the output of sliders to convert them to `x, y, z` that I plot for one orbit."
   ]
  },
  {
   "cell_type": "code",
   "execution_count": 10,
   "metadata": {},
   "outputs": [
    {
     "data": {
      "application/vnd.jupyter.widget-view+json": {
       "model_id": "91f7db1fbc4f4c949bc17d8a0b0d1895",
       "version_major": 2,
       "version_minor": 0
      },
      "text/plain": [
       "interactive(children=(FloatSlider(value=1.0, description='sma', max=5.0, min=1.0, step=0.3), FloatSlider(value…"
      ]
     },
     "metadata": {},
     "output_type": "display_data"
    },
    {
     "data": {
      "application/vnd.jupyter.widget-view+json": {
       "model_id": "b723ecce136b48ba82e8c2d312452a6f",
       "version_major": 2,
       "version_minor": 0
      },
      "text/plain": [
       "FigureWidget({\n",
       "    'data': [{'line': {'color': 'blue'},\n",
       "              'marker': {'size': 2},\n",
       "              'ty…"
      ]
     },
     "metadata": {},
     "output_type": "display_data"
    }
   ],
   "source": [
    "def rot(angle, axis, in_degrees=False):\n",
    "    \"\"\"\n",
    "    Find a 3x3 euler rotation matrix given an angle and axis.\n",
    "\n",
    "    Rotation matrix used for rotating a vector about a single axis.\n",
    "\n",
    "    Args:\n",
    "        angle (float): angle in degrees to rotate\n",
    "        axis (int): 1, 2 or 3\n",
    "        in_degrees (bool): specify the angle in degrees. if false, using\n",
    "            radians for `angle`\n",
    "    \"\"\"\n",
    "    R = np.eye(3)\n",
    "    if in_degrees:\n",
    "        angle = np.deg2rad(angle)\n",
    "    cang = cos(angle)\n",
    "    sang = sin(angle)\n",
    "    if axis == 1:\n",
    "        R[1, 1] = cang\n",
    "        R[2, 2] = cang\n",
    "        R[1, 2] = sang\n",
    "        R[2, 1] = -sang\n",
    "    elif axis == 2:\n",
    "        R[0, 0] = cang\n",
    "        R[2, 2] = cang\n",
    "        R[0, 2] = -sang\n",
    "        R[2, 0] = sang\n",
    "    elif axis == 3:\n",
    "        R[0, 0] = cang\n",
    "        R[1, 1] = cang\n",
    "        R[1, 0] = -sang\n",
    "        R[0, 1] = sang\n",
    "    else:\n",
    "        raise ValueError(\"axis must be 1, 2 or 2\")\n",
    "    return R\n",
    "\n",
    "\n",
    "def R1(angle, in_degrees=False):\n",
    "    return rot(angle, 1, in_degrees=in_degrees)\n",
    "\n",
    "def R3(angle, in_degrees=False):\n",
    "    return rot(angle, 3, in_degrees=in_degrees)\n",
    "\n",
    "\n",
    "def kep2cart(mu, kep_oe_vector):\n",
    "    # Steps outline:\n",
    "    # 1. Using sma, ecc, tru, solve for r, v in the PQW frame\n",
    "    # 2. Check singularities, make transform matrix T_PQW_ijk\n",
    "    # 3. transform r and v fromPQW to inertial\n",
    "\n",
    "    # 1. Using sma, ecc, tru, solve for r, v in the PQW frame\n",
    "    sma, ecc, inc, raan, argp, tru = kep_oe_vector\n",
    "\n",
    "    p = sma * (1 - ecc**2)  # Semiparameter\n",
    "\n",
    "    rPQW = np.array([p * cos(tru), p * sin(tru), 0]) / (1 + ecc * cos(tru))\n",
    "    vPQW = np.array([-sin(tru), ecc + cos(tru), 0]) * sqrt(mu / p)\n",
    "\n",
    "    # 2. Check singularities, make transform matrix T_PQW_ijk\n",
    "    # with raan, inc, argp using 3-1-3 Euler sequence\n",
    "    if ecc < 1e-12 and inc < 1e-12:\n",
    "        # raan = 0; argp = 0; tru = l;\n",
    "        T_pqw_ijk = np.eye(3)\n",
    "    elif ecc < 1e-12:\n",
    "        # argp = 0; tru = u;\n",
    "        T_pqw_ijk = R3(-raan) @ R1(-inc)\n",
    "    elif inc < 1e-12:\n",
    "        # raan = 0,  argp = omegaBar;\n",
    "        T_pqw_ijk = R3(-argp)\n",
    "    else:\n",
    "        T_pqw_ijk = R3(-raan) @ R1(-inc) @ R3(-argp)\n",
    "\n",
    "    # 3. transform r and v fromPQW to inertial\n",
    "    r_vec = T_pqw_ijk @ rPQW\n",
    "    v_vec = T_pqw_ijk @ vPQW\n",
    "\n",
    "    return r_vec, v_vec\n",
    "\n",
    "max_lim = 10\n",
    "\n",
    "scene=dict(camera=dict(eye=dict(x=1.15, y=1.15, z=0.8)), #the default values are 1.25, 1.25, 1.25\n",
    "   xaxis={'range': [-max_lim, max_lim]},\n",
    "   yaxis={'range': [-max_lim, max_lim]},\n",
    "   zaxis={'range': [-max_lim, max_lim]},\n",
    "   aspectmode='cube', #this string can be 'data', 'cube', 'auto', 'manual'\n",
    "   #a custom aspectratio is defined as follows:\n",
    "   aspectratio=dict(x=1, y=1, z=0.95)\n",
    ")\n",
    "\n",
    "# eye gives the position of the camera eye;\n",
    "# aspectmode='cube', the scene’s axes are drawn as a cube, regardless of the axes’ ranges\n",
    "# aspectmode='data' preserves the proportion of axes ranges\n",
    "# 'manual' when you set the aspectratio,\n",
    "# 'auto' the scene’s axes are drawn with 'data', except when one axis is more than four times\n",
    "# the size of the two others; in that case the 'cube' is used.\n",
    "\n",
    "fig = go.FigureWidget(**{'layout': dict(\n",
    "    scene=scene,\n",
    "    width=700,\n",
    "    height=700,\n",
    "    )}\n",
    ")\n",
    "\n",
    "scatt = fig.add_scatter3d()\n",
    "scatt.marker.size = 2\n",
    "scatt.line.color = 'blue'\n",
    "\n",
    "mu = 1\n",
    "\n",
    "sma_tup = (1, 5, .3)  # min, max, step\n",
    "ecc_tup = (0, .8, .1)\n",
    "inc_tup = (0, np.pi/2, .1)  \n",
    "raan_tup = (0, np.pi, .1)  \n",
    "argp_tup = (0, np.pi, .1)  \n",
    "\n",
    "tru_array = np.linspace(0, 2*np.pi, 50)\n",
    "cur_r_vecs = np.empty((3, len(tru_array)))\n",
    "\n",
    "@interact(sma=sma_tup, ecc=ecc_tup, inc=inc_tup, raan=raan_tup, argp=argp_tup)\n",
    "def update(sma=1., ecc=0., inc=0., raan=0.0, argp=0.0,):\n",
    "    with fig.batch_update():\n",
    "        for idx, tru in enumerate(tru_array):\n",
    "            r_vec, v_vec = kep2cart(mu, np.array([sma, ecc, inc, raan, argp, tru]))\n",
    "            cur_r_vecs[:, idx] = r_vec\n",
    "            \n",
    "        xs, ys, zs = cur_r_vecs\n",
    "        scatt.x=xs\n",
    "        scatt.y=ys\n",
    "        scatt.z=zs\n",
    "\n",
    "fig"
   ]
  }
 ],
 "metadata": {
  "kernelspec": {
   "display_name": "Python 3",
   "language": "python",
   "name": "python3"
  },
  "language_info": {
   "codemirror_mode": {
    "name": "ipython",
    "version": 3
   },
   "file_extension": ".py",
   "mimetype": "text/x-python",
   "name": "python",
   "nbconvert_exporter": "python",
   "pygments_lexer": "ipython3",
   "version": "3.6.7"
  }
 },
 "nbformat": 4,
 "nbformat_minor": 2
}
